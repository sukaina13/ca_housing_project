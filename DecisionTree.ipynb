{
 "cells": [
  {
   "cell_type": "markdown",
   "metadata": {},
   "source": [
    "# Decision Tree Model – California Housing\n",
    "\n",
    "This notebook trains and evaluates a **Decision Tree Regressor** on the processed California Housing dataset.  \n",
    "\n",
    "It includes:  \n",
    "- Loading the processed dataset  \n",
    "- Fitting a Decision Tree model  \n",
    "- Cross-validation evaluation  \n",
    "- Hyperparameter tuning  \n",
    "- Saving the trained model  \n"
   ]
  },
  {
   "cell_type": "code",
   "execution_count": 50,
   "metadata": {},
   "outputs": [
    {
     "name": "stdout",
     "output_type": "stream",
     "text": [
      "Processed train shape: (16512, 24)\n"
     ]
    }
   ],
   "source": [
    "import pandas as pd\n",
    "import numpy as np\n",
    "from pathlib import Path\n",
    "from sklearn.tree import DecisionTreeRegressor\n",
    "from sklearn.model_selection import cross_val_score\n",
    "from sklearn.metrics import mean_squared_error\n",
    "import joblib\n",
    "\n",
    "# Paths\n",
    "PROJECT_DIR = Path(\"/Users/sukainaalkhalidy/Desktop/CMSE492/ca_housing_project\")\n",
    "TRAIN_PROCESSED_FP = PROJECT_DIR / \"data\" / \"train\" / \"housing_train_processed.csv\"\n",
    "MODEL_FP = PROJECT_DIR / \"models\" / \"decision_tree_model.pkl\"\n",
    "\n",
    "# Load processed dataset\n",
    "housing = pd.read_csv(TRAIN_PROCESSED_FP)\n",
    "print(\"Processed train shape:\", housing.shape)\n",
    "\n",
    "X = housing.drop(\"median_house_value\", axis=1)\n",
    "y = housing[\"median_house_value\"]\n",
    "\n",
    "# Handle missing values just in case\n",
    "X = X.fillna(X.median(numeric_only=True))\n"
   ]
  },
  {
   "cell_type": "markdown",
   "metadata": {},
   "source": [
    "# Model Fitting\n",
    "We initialize and train a **DecisionTreeRegressor** on the dataset.\n"
   ]
  },
  {
   "cell_type": "code",
   "execution_count": 53,
   "metadata": {},
   "outputs": [
    {
     "name": "stdout",
     "output_type": "stream",
     "text": [
      "Decision Tree model trained successfully!\n"
     ]
    }
   ],
   "source": [
    "from sklearn.tree import DecisionTreeRegressor\n",
    "# Initialize the Decision Tree Regressor\n",
    "# random_state=42 ensures reproducibility\n",
    "tree_reg = DecisionTreeRegressor(random_state=42)\n",
    "# Fit the model on the processed training data\n",
    "tree_reg.fit(X, y)\n",
    "\n",
    "print(\"Decision Tree model trained successfully!\")\n"
   ]
  },
  {
   "cell_type": "markdown",
   "metadata": {},
   "source": [
    "# Cross-Validation\n",
    "We use **cross-validation with RMSE** to evaluate the Decision Tree.\n"
   ]
  },
  {
   "cell_type": "code",
   "execution_count": 54,
   "metadata": {},
   "outputs": [
    {
     "name": "stdout",
     "output_type": "stream",
     "text": [
      "Cross-validation RMSE scores: [72726.66170184 72872.57193526 71809.74015932 68975.78235878\n",
      " 71718.24150741]\n",
      "Mean: 71620.59953252101\n",
      "Standard deviation: 1402.22497724948\n"
     ]
    }
   ],
   "source": [
    "from sklearn.model_selection import cross_val_score\n",
    "import numpy as np\n",
    "# Perform 5-fold cross-validation on the Decision Tree model\n",
    "# Using negative mean squared error as the scoring metric\n",
    "scores = cross_val_score(tree_reg, X, y,\n",
    "                         scoring=\"neg_mean_squared_error\", cv=5)\n",
    "\n",
    "# Convert negative MSE scores into RMSE for easier interpretation\n",
    "rmse_scores = np.sqrt(-scores)\n",
    "\n",
    "print(\"Cross-validation RMSE scores:\", rmse_scores)\n",
    "print(\"Mean:\", rmse_scores.mean())\n",
    "print(\"Standard deviation:\", rmse_scores.std())\n"
   ]
  },
  {
   "cell_type": "code",
   "execution_count": 57,
   "metadata": {},
   "outputs": [
    {
     "name": "stdout",
     "output_type": "stream",
     "text": [
      "RMSE scores: [72726.66170184 72872.57193526 71809.74015932 68975.78235878\n",
      " 71718.24150741]\n",
      "Mean RMSE: 71620.59953252101\n",
      "Standard deviation: 1402.22497724948\n"
     ]
    }
   ],
   "source": [
    "print(\"RMSE scores:\", rmse_scores)\n",
    "print(\"Mean RMSE:\", rmse_scores.mean())\n",
    "print(\"Standard deviation:\", rmse_scores.std())\n"
   ]
  },
  {
   "cell_type": "code",
   "execution_count": 59,
   "metadata": {},
   "outputs": [
    {
     "name": "stdout",
     "output_type": "stream",
     "text": [
      "0\n",
      "[dtype('float64')]\n"
     ]
    }
   ],
   "source": [
    "print(X.isna().sum().sum())  # should be 0\n",
    "print(X.dtypes.unique())\n"
   ]
  },
  {
   "cell_type": "markdown",
   "metadata": {},
   "source": [
    "# Hyperparameter Tuning\n",
    "We use **GridSearchCV** to find the best tree depth and split criteria.\n"
   ]
  },
  {
   "cell_type": "code",
   "execution_count": 61,
   "metadata": {},
   "outputs": [
    {
     "name": "stdout",
     "output_type": "stream",
     "text": [
      "Best parameters: {'max_depth': 10, 'min_samples_leaf': 5, 'min_samples_split': 2}\n",
      "Mean RMSE (tuned): 61339.120597379006\n"
     ]
    }
   ],
   "source": [
    "from sklearn.model_selection import GridSearchCV\n",
    "\n",
    "# Smaller grid to test quickly\n",
    "param_grid = {\n",
    "    \"max_depth\": [5, 10, None],\n",
    "    \"min_samples_split\": [2, 10],\n",
    "    \"min_samples_leaf\": [1, 5]\n",
    "}\n",
    "\n",
    "grid = GridSearchCV(\n",
    "    DecisionTreeRegressor(random_state=42),\n",
    "    param_grid,\n",
    "    cv=3,  # fewer folds, faster\n",
    "    scoring=\"neg_mean_squared_error\",\n",
    "    n_jobs=1  # single core, more stable\n",
    ")\n",
    "\n",
    "\n",
    "grid.fit(X, y)\n",
    "\n",
    "print(\"Best parameters:\", grid.best_params_)\n",
    "best_tree = grid.best_estimator_\n",
    "\n",
    "# Evaluate tuned tree\n",
    "scores = cross_val_score(best_tree, X, y,\n",
    "                         scoring=\"neg_mean_squared_error\", cv=5)\n",
    "rmse_scores = np.sqrt(-scores)\n",
    "print(\"Mean RMSE (tuned):\", rmse_scores.mean())\n"
   ]
  },
  {
   "cell_type": "markdown",
   "metadata": {},
   "source": [
    "# Model Saving\n",
    "We save the trained Decision Tree model to the `/models` directory.\n"
   ]
  },
  {
   "cell_type": "code",
   "execution_count": 65,
   "metadata": {},
   "outputs": [
    {
     "name": "stdout",
     "output_type": "stream",
     "text": [
      "Model saved to /Users/sukainaalkhalidy/Desktop/CMSE492/ca_housing_project/models/decision_tree_model.pkl\n"
     ]
    }
   ],
   "source": [
    "from pathlib import Path\n",
    "import joblib\n",
    "\n",
    "PROJECT_DIR = Path(\"/Users/sukainaalkhalidy/Desktop/CMSE492/ca_housing_project\")\n",
    "models_dir = PROJECT_DIR / \"models\"\n",
    "models_dir.mkdir(parents=True, exist_ok=True)\n",
    "\n",
    "model_path = models_dir / \"decision_tree_model.pkl\"\n",
    "\n",
    "# Save tuned model\n",
    "joblib.dump(best_tree, model_path)\n",
    "print(f\"Model saved to {model_path}\")\n",
    "\n"
   ]
  }
 ],
 "metadata": {
  "language_info": {
   "name": "python"
  }
 },
 "nbformat": 4,
 "nbformat_minor": 2
}
