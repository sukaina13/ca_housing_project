{
 "cells": [
  {
   "cell_type": "markdown",
   "metadata": {},
   "source": [
    "# Linear Regression Model – California Housing\n",
    "\n",
    "This notebook trains and evaluates a **Linear Regression model** on the processed California Housing dataset.  \n",
    "\n",
    "It includes:  \n",
    "- Loading the processed dataset  \n",
    "- Fitting a Linear Regression model  \n",
    "- Cross-validation evaluation  \n",
    "- Hyperparameter tuning  \n",
    "- Saving the trained model  \n"
   ]
  },
  {
   "cell_type": "markdown",
   "metadata": {},
   "source": [
    "# Data loading"
   ]
  },
  {
   "cell_type": "code",
   "execution_count": 146,
   "metadata": {},
   "outputs": [
    {
     "name": "stdout",
     "output_type": "stream",
     "text": [
      "Processed train shape: (16512, 24)\n"
     ]
    }
   ],
   "source": [
    "import pandas as pd\n",
    "import numpy as np\n",
    "from pathlib import Path\n",
    "from sklearn.linear_model import LinearRegression\n",
    "from sklearn.model_selection import cross_val_score\n",
    "from sklearn.metrics import mean_squared_error\n",
    "import joblib\n",
    "\n",
    "# Paths\n",
    "PROJECT_DIR = Path(\"/Users/sukainaalkhalidy/Desktop/CMSE492/ca_housing_project\")\n",
    "TRAIN_PROCESSED_FP = PROJECT_DIR / \"data\" / \"train\" / \"housing_train_processed.csv\"\n",
    "MODEL_FP = PROJECT_DIR / \"models\" / \"linear_regression_model.pkl\"\n",
    "\n",
    "# Load processed dataset (24 features + target)\n",
    "housing = pd.read_csv(TRAIN_PROCESSED_FP)\n",
    "print(\"Processed train shape:\", housing.shape)\n",
    "\n",
    "X = housing.drop(\"median_house_value\", axis=1)\n",
    "y = housing[\"median_house_value\"]\n"
   ]
  },
  {
   "cell_type": "markdown",
   "metadata": {},
   "source": [
    "# model fitting"
   ]
  },
  {
   "cell_type": "code",
   "execution_count": 145,
   "metadata": {},
   "outputs": [
    {
     "name": "stdout",
     "output_type": "stream",
     "text": [
      "X shape: (16512, 23)\n",
      "y shape: (16512,)\n",
      "\n",
      "X dtypes:\n",
      "float64    23\n",
      "Name: count, dtype: int64\n",
      "\n",
      "Non-numeric columns:\n",
      "Empty DataFrame\n",
      "Columns: []\n",
      "Index: [0, 1, 2, 3, 4]\n",
      "\n",
      "Missing values per column:\n",
      "total_bedrooms            163\n",
      "bedrooms_per_room         163\n",
      "bedrooms_per_person       163\n",
      "population_per_bedroom    163\n",
      "dtype: int64\n"
     ]
    }
   ],
   "source": [
    "print(\"X shape:\", X.shape)\n",
    "print(\"y shape:\", y.shape)\n",
    "\n",
    "# Check dtypes\n",
    "print(\"\\nX dtypes:\")\n",
    "print(X.dtypes.value_counts())\n",
    "print(\"\\nNon-numeric columns:\")\n",
    "print(X.select_dtypes(exclude=[np.number]).head())\n",
    "\n",
    "# Check missing values\n",
    "print(\"\\nMissing values per column:\")\n",
    "print(X.isna().sum()[X.isna().sum() > 0])\n"
   ]
  },
  {
   "cell_type": "code",
   "execution_count": 148,
   "metadata": {},
   "outputs": [
    {
     "name": "stdout",
     "output_type": "stream",
     "text": [
      "Training RMSE: 65914.95687475588\n"
     ]
    }
   ],
   "source": [
    "from sklearn.impute import SimpleImputer\n",
    "\n",
    "imputer = SimpleImputer(strategy=\"median\")\n",
    "X_imputed = imputer.fit_transform(X)\n",
    "X = pd.DataFrame(X_imputed, columns=X.columns, index=X.index)\n",
    "\n",
    "# Initialize and fit Linear Regression\n",
    "lin_reg = LinearRegression()\n",
    "lin_reg.fit(X, y)\n",
    "\n",
    "# Basic training results\n",
    "predictions = lin_reg.predict(X)\n",
    "mse = mean_squared_error(y, predictions)\n",
    "rmse = np.sqrt(mse)\n",
    "print(\"Training RMSE:\", rmse)\n"
   ]
  },
  {
   "cell_type": "markdown",
   "metadata": {},
   "source": [
    "# Cross-Validation\n",
    "We evaluate the model using **5-fold cross-validation** with RMSE as the metric.\n"
   ]
  },
  {
   "cell_type": "code",
   "execution_count": 149,
   "metadata": {},
   "outputs": [
    {
     "name": "stdout",
     "output_type": "stream",
     "text": [
      "Cross-validation RMSE scores: [90341.50586327 64873.20259698 66611.36673363 65312.25971465\n",
      " 70947.35147087]\n",
      "Mean: 71617.13727588105\n",
      "Standard deviation: 9605.628212232115\n"
     ]
    }
   ],
   "source": [
    "from sklearn.model_selection import cross_val_score\n",
    "import numpy as np\n",
    "\n",
    "scores = cross_val_score(lin_reg, X, y,\n",
    "                         scoring=\"neg_mean_squared_error\", cv=5)\n",
    "rmse_scores = np.sqrt(-scores)\n",
    "\n",
    "print(\"Cross-validation RMSE scores:\", rmse_scores)\n",
    "print(\"Mean:\", rmse_scores.mean())\n",
    "print(\"Standard deviation:\", rmse_scores.std())\n"
   ]
  },
  {
   "cell_type": "markdown",
   "metadata": {},
   "source": [
    "# Hyperparameter Tuning\n",
    "We use **GridSearchCV** to explore simple Linear Regression options  \n",
    "(`fit_intercept` and `positive`).\n"
   ]
  },
  {
   "cell_type": "code",
   "execution_count": 153,
   "metadata": {},
   "outputs": [
    {
     "name": "stdout",
     "output_type": "stream",
     "text": [
      "Best parameters: {'fit_intercept': True, 'positive': True}\n",
      "Best score (MSE): 4894428163.5285845\n"
     ]
    }
   ],
   "source": [
    "from sklearn.model_selection import GridSearchCV\n",
    "\n",
    "param_grid = {\n",
    "    \"fit_intercept\": [True, False],\n",
    "    \"positive\": [True, False]\n",
    "}\n",
    "\n",
    "grid_search = GridSearchCV(LinearRegression(), param_grid,\n",
    "                           scoring=\"neg_mean_squared_error\", cv=5)\n",
    "\n",
    "grid_search.fit(X, y)\n",
    "\n",
    "print(\"Best parameters:\", grid_search.best_params_)\n",
    "print(\"Best score (MSE):\", -grid_search.best_score_)\n"
   ]
  },
  {
   "cell_type": "markdown",
   "metadata": {},
   "source": [
    "# Model Saving\n",
    "Finally, we save the trained model into the `/models` directory for reuse.\n"
   ]
  },
  {
   "cell_type": "code",
   "execution_count": 154,
   "metadata": {},
   "outputs": [
    {
     "name": "stdout",
     "output_type": "stream",
     "text": [
      "Model saved to /Users/sukainaalkhalidy/Desktop/CMSE492/ca_housing_project/models/linear_regression_model.pkl\n"
     ]
    }
   ],
   "source": [
    "# Save trained model\n",
    "joblib.dump(lin_reg, MODEL_FP)\n",
    "print(f\"Model saved to {MODEL_FP}\")\n",
    "\n"
   ]
  }
 ],
 "metadata": {
  "language_info": {
   "name": "python"
  }
 },
 "nbformat": 4,
 "nbformat_minor": 2
}
