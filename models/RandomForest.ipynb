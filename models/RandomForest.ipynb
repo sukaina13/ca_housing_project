{
 "cells": [
  {
   "cell_type": "markdown",
   "metadata": {},
   "source": [
    "# Data Loading\n",
    "\n",
    "We load the processed training dataset (24 features + target) from the `/data/train` directory.  \n",
    "Since the data is already preprocessed, we can directly use it for model training.\n"
   ]
  },
  {
   "cell_type": "code",
   "execution_count": 44,
   "metadata": {},
   "outputs": [
    {
     "name": "stdout",
     "output_type": "stream",
     "text": [
      "Processed train shape: (16512, 24)\n"
     ]
    }
   ],
   "source": [
    "import pandas as pd\n",
    "import numpy as np\n",
    "from pathlib import Path\n",
    "from sklearn.ensemble import RandomForestRegressor\n",
    "from sklearn.model_selection import cross_val_score, GridSearchCV\n",
    "from sklearn.metrics import mean_squared_error\n",
    "import joblib\n",
    "\n",
    "# Paths\n",
    "PROJECT_DIR = Path(\"/Users/sukainaalkhalidy/Desktop/CMSE492/ca_housing_project\")\n",
    "TRAIN_PROCESSED_FP = PROJECT_DIR / \"data\" / \"train\" / \"housing_train_processed.csv\"\n",
    "MODEL_FP = PROJECT_DIR / \"models\" / \"random_forest_model.pkl\"\n",
    "\n",
    "# Load processed dataset\n",
    "housing = pd.read_csv(TRAIN_PROCESSED_FP)\n",
    "print(\"Processed train shape:\", housing.shape)\n",
    "\n",
    "X = housing.drop(\"median_house_value\", axis=1)\n",
    "y = housing[\"median_house_value\"]\n",
    "\n",
    "# Handle missing values\n",
    "X = X.fillna(X.median(numeric_only=True))\n"
   ]
  },
  {
   "cell_type": "markdown",
   "metadata": {},
   "source": [
    "# # Model Fitting\n",
    "\n",
    "We initialize and train a Random Forest model on the processed training data.  \n",
    "The training RMSE is reported as a baseline measure (though it may underestimate true error).\n"
   ]
  },
  {
   "cell_type": "code",
   "execution_count": 45,
   "metadata": {},
   "outputs": [
    {
     "name": "stdout",
     "output_type": "stream",
     "text": [
      "Training RMSE: 18530.863136665324\n"
     ]
    }
   ],
   "source": [
    "forest_reg = RandomForestRegressor(random_state=42, n_jobs=-1)\n",
    "forest_reg.fit(X, y)\n",
    "\n",
    "predictions = forest_reg.predict(X)\n",
    "mse = mean_squared_error(y, predictions)\n",
    "rmse = np.sqrt(mse)\n",
    "print(\"Training RMSE:\", rmse)\n"
   ]
  },
  {
   "cell_type": "markdown",
   "metadata": {},
   "source": [
    "# Cross-Validation\n",
    "We evaluate the Random Forest model using 5-fold cross-validation.  \n",
    "This provides a more reliable estimate of model performance.\n"
   ]
  },
  {
   "cell_type": "code",
   "execution_count": 49,
   "metadata": {},
   "outputs": [
    {
     "name": "stdout",
     "output_type": "stream",
     "text": [
      "Cross-validation RMSE scores: [49615.18640867 49452.76855645 50979.50362713 49706.50915409\n",
      " 50745.22988605]\n",
      "Mean RMSE: 50099.839526477226\n",
      "Std deviation: 632.2398141373344\n"
     ]
    }
   ],
   "source": [
    "scores = cross_val_score(forest_reg, X, y,\n",
    "                         scoring=\"neg_mean_squared_error\", cv=5,\n",
    "                         n_jobs=1)\n",
    "\n",
    "\n",
    "rmse_scores = np.sqrt(-scores)\n",
    "print(\"Cross-validation RMSE scores:\", rmse_scores)\n",
    "print(\"Mean RMSE:\", rmse_scores.mean())\n",
    "print(\"Std deviation:\", rmse_scores.std())\n"
   ]
  },
  {
   "cell_type": "markdown",
   "metadata": {},
   "source": [
    "# Hyperparameter Tuning\n",
    "\n",
    "We use GridSearchCV to tune the Random Forest model’s hyperparameters.  \n",
    "The best parameters and tuned performance are reported.\n"
   ]
  },
  {
   "cell_type": "code",
   "execution_count": 56,
   "metadata": {},
   "outputs": [
    {
     "name": "stdout",
     "output_type": "stream",
     "text": [
      "Best parameters: {'max_depth': None, 'n_estimators': 50}\n"
     ]
    }
   ],
   "source": [
    "param_grid = {\n",
    "    \"n_estimators\": [50],\n",
    "    \"max_depth\": [10, None]\n",
    "}\n",
    "\n",
    "grid = GridSearchCV(\n",
    "    RandomForestRegressor(random_state=42, n_jobs=1),\n",
    "    param_grid,\n",
    "    cv=2,  # fewer folds\n",
    "    scoring=\"neg_mean_squared_error\",\n",
    "    n_jobs=1\n",
    ")\n",
    "\n",
    "grid.fit(X, y)\n",
    "print(\"Best parameters:\", grid.best_params_)\n",
    "best_forest = grid.best_estimator_\n"
   ]
  },
  {
   "cell_type": "markdown",
   "metadata": {},
   "source": [
    "# Model Saving\n",
    "\n",
    "We save the tuned Random Forest model to the `/models` directory  \n",
    "so it can be reused later without retraining.\n"
   ]
  },
  {
   "cell_type": "code",
   "execution_count": 57,
   "metadata": {},
   "outputs": [
    {
     "name": "stdout",
     "output_type": "stream",
     "text": [
      "Model saved to /Users/sukainaalkhalidy/Desktop/CMSE492/ca_housing_project/models/random_forest_model.pkl\n"
     ]
    }
   ],
   "source": [
    "MODEL_FP.parent.mkdir(parents=True, exist_ok=True)\n",
    "joblib.dump(forest_reg, MODEL_FP)\n",
    "print(f\"Model saved to {MODEL_FP}\")\n"
   ]
  }
 ],
 "metadata": {
  "language_info": {
   "name": "python"
  }
 },
 "nbformat": 4,
 "nbformat_minor": 2
}
